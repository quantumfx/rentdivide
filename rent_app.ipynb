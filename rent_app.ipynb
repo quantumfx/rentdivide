{
 "cells": [
  {
   "cell_type": "code",
   "execution_count": 3,
   "metadata": {},
   "outputs": [],
   "source": [
    "import ipywidgets as widgets\n",
    "# import matplotlib.pyplot as plt\n",
    "\n",
    "# %matplotlib ipympl"
   ]
  },
  {
   "cell_type": "code",
   "execution_count": 4,
   "metadata": {},
   "outputs": [],
   "source": [
    "total_rent = 2660.68\n",
    "fangxi_current = 776.95\n",
    "chelsey_current = 885.66\n",
    "gerry_current = 998.07\n",
    "\n",
    "assert abs(fangxi_current + chelsey_current + gerry_current - total_rent) <= 1e-10"
   ]
  },
  {
   "cell_type": "code",
   "execution_count": 12,
   "metadata": {},
   "outputs": [],
   "source": [
    "def rent_division(public_portion = 0, chelsey_portion = 0.25):\n",
    "    \n",
    "#     chelsey_portion = 0.25 * (1 - chelsey_discount)\n",
    "    other_portion   = 1 - chelsey_portion\n",
    "    \n",
    "    fangxi_rent  = fangxi_current * (1 - public_portion)\\\n",
    "                                   + total_rent * public_portion * other_portion / 3 * 2\n",
    "    \n",
    "    chelsey_rent = chelsey_current * (1 - public_portion)\\\n",
    "                                   + total_rent * public_portion * chelsey_portion\n",
    "    \n",
    "    gerry_rent   = gerry_current * (1 - public_portion)\\\n",
    "                                   + total_rent * public_portion * other_portion / 3\n",
    "    \n",
    "# the following is wrong. public_portion = 1 doesn't give 1/4 per share\n",
    "#     fangxi_rent  = fangxi_current  - total_rent * public_portion / 3\\\n",
    "#                                    + total_rent * public_portion * other_portion / 3 * 2\n",
    "        \n",
    "#     chelsey_rent = chelsey_current - total_rent * public_portion / 3\\\n",
    "#                                    + total_rent * public_portion * chelsey_portion\n",
    "        \n",
    "#     gerry_rent   = gerry_current   - total_rent * public_portion / 3\\\n",
    "#                                    + total_rent * public_portion * other_portion / 3\n",
    "    \n",
    "    assert abs(fangxi_rent + chelsey_rent + gerry_rent - total_rent) <= 1e-10\n",
    "    \n",
    "    print('About $%.2f of rent is \"public space\", ie. %.1f%%.' % (public_portion*total_rent, public_portion*100) )\n",
    "    print('Chelsey is paying paying %.1f%% of \"public space\", %0.1f%% off of 25%%.' % (chelsey_portion*100, 100*(0.25-chelsey_portion)/0.25))\n",
    "#     print('Chelsey is getting a discount of %.1f%% off 25%%, thus paying %.1f%% of \"public space\".' % (chelsey_discount*100, chelsey_portion*100))\n",
    "    print('Fang Xi, Immy, and Gerry are each paying %.1f%% of \"public space.' % (other_portion*100/3))    \n",
    "    print('Fang Xi + Immy\\'s rent is $%.2f, %.2f%% of total rent.' % (fangxi_rent, 100*fangxi_rent/total_rent))\n",
    "    print('Chelsey\\'s rent is        $%.2f, %.2f%% of total rent.' % (chelsey_rent, 100*chelsey_rent/total_rent))\n",
    "    print('Gerry\\'s rent is          $%.2f, %.2f%% of total rent.' % (gerry_rent, 100*gerry_rent/total_rent))\n",
    "    \n",
    "#     plt.bar(['FX', 'C', 'G'], [fangxi_rent, chelsey_rent, gerry_rent])\n",
    "    \n",
    "    return"
   ]
  },
  {
   "cell_type": "code",
   "execution_count": 17,
   "metadata": {},
   "outputs": [],
   "source": [
    "w = widgets.interactive(rent_division,\n",
    "                 public_portion = (0.0, 1.0, 0.001),\n",
    "                 chelsey_portion = (0.10, .25, 0.001))\n",
    "w.children[0].layout = widgets.Layout(width='80%')\n",
    "w.children[1].layout = widgets.Layout(width='80%')"
   ]
  },
  {
   "cell_type": "code",
   "execution_count": 18,
   "metadata": {
    "scrolled": false
   },
   "outputs": [
    {
     "data": {
      "application/vnd.jupyter.widget-view+json": {
       "model_id": "2a5a99821b9841589ff492fbd1aefd65",
       "version_major": 2,
       "version_minor": 0
      },
      "text/html": [
       "<p>Failed to display Jupyter Widget of type <code>interactive</code>.</p>\n",
       "<p>\n",
       "  If you're reading this message in the Jupyter Notebook or JupyterLab Notebook, it may mean\n",
       "  that the widgets JavaScript is still loading. If this message persists, it\n",
       "  likely means that the widgets JavaScript library is either not installed or\n",
       "  not enabled. See the <a href=\"https://ipywidgets.readthedocs.io/en/stable/user_install.html\">Jupyter\n",
       "  Widgets Documentation</a> for setup instructions.\n",
       "</p>\n",
       "<p>\n",
       "  If you're reading this message in another frontend (for example, a static\n",
       "  rendering on GitHub or <a href=\"https://nbviewer.jupyter.org/\">NBViewer</a>),\n",
       "  it may mean that your frontend doesn't currently support widgets.\n",
       "</p>\n"
      ],
      "text/plain": [
       "interactive(children=(FloatSlider(value=0.0, description='public_portion', layout=Layout(width='80%'), max=1.0, step=0.001), FloatSlider(value=0.25, description='chelsey_portion', layout=Layout(width='80%'), max=0.25, min=0.1, step=0.001), Output()), _dom_classes=('widget-interact',))"
      ]
     },
     "metadata": {},
     "output_type": "display_data"
    }
   ],
   "source": [
    "# plt.figure()\n",
    "display(w)"
   ]
  },
  {
   "cell_type": "code",
   "execution_count": null,
   "metadata": {},
   "outputs": [],
   "source": []
  }
 ],
 "metadata": {
  "kernelspec": {
   "display_name": "Python 3",
   "language": "python",
   "name": "python3"
  },
  "language_info": {
   "codemirror_mode": {
    "name": "ipython",
    "version": 3
   },
   "file_extension": ".py",
   "mimetype": "text/x-python",
   "name": "python",
   "nbconvert_exporter": "python",
   "pygments_lexer": "ipython3",
   "version": "3.6.4"
  },
  "toc": {
   "colors": {
    "hover_highlight": "#DAA520",
    "navigate_num": "#000000",
    "navigate_text": "#333333",
    "running_highlight": "#FF0000",
    "selected_highlight": "#FFD700",
    "sidebar_border": "#EEEEEE",
    "wrapper_background": "#FFFFFF"
   },
   "moveMenuLeft": true,
   "nav_menu": {
    "height": "12px",
    "width": "252px"
   },
   "navigate_menu": true,
   "number_sections": true,
   "sideBar": true,
   "threshold": 4,
   "toc_cell": false,
   "toc_section_display": "block",
   "toc_window_display": false,
   "widenNotebook": false
  }
 },
 "nbformat": 4,
 "nbformat_minor": 2
}
